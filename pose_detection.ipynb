{
 "cells": [
  {
   "cell_type": "code",
   "execution_count": null,
   "metadata": {},
   "outputs": [],
   "source": [
    "import cv2 as cv\n",
    "import mediapipe as mp\n",
    "\n",
    "\n",
    "#mediapipe is a ready to use ML solution from google https://google.github.io/mediapipe/getting_started/python.html\n",
    "#mediapipe api for pose detection\n",
    "mppose = mp.solutions.pose\n",
    "pose = mppose.Pose(min_detection_confidence=0.5,min_tracking_confidence=0.5)\n",
    "\n",
    "#Drawing on top of the image\n",
    "mpDraw = mp.solutions.drawing_utils\n",
    "\n",
    "mpDraw_style = mp.solutions.drawing_styles\n",
    "\n",
    "video = cv.VideoCapture(0)\n",
    "writer = cv.VideoWriter(\"pose.mp4\", )\n",
    "while True:\n",
    "    sucess, frame = video.read()\n",
    "\n",
    "    result = pose.process(frame)\n",
    "\n",
    "    frame.flags.writeable = True\n",
    "\n",
    "    print(result.pose_landmarks)\n",
    "    if result.pose_landmarks:\n",
    "        mpDraw.draw_landmarks(frame, result.pose_landmarks,  mppose.POSE_CONNECTIONS, landmark_drawing_spec=mpDraw_style.get_default_pose_landmarks_style())\n",
    "        \n",
    "    cv.imshow(\"Pose detection\", frame)\n",
    "    if cv.waitKey(1)== ord(\"x\"):\n",
    "        break\n",
    "\n",
    "video.release()\n",
    "cv.destroyAllWindows()"
   ]
  }
 ],
 "metadata": {
  "kernelspec": {
   "display_name": "Python 3.8.10 ('py3env': venv)",
   "language": "python",
   "name": "python3"
  },
  "language_info": {
   "codemirror_mode": {
    "name": "ipython",
    "version": 3
   },
   "file_extension": ".py",
   "mimetype": "text/x-python",
   "name": "python",
   "nbconvert_exporter": "python",
   "pygments_lexer": "ipython3",
   "version": "3.8.10"
  },
  "orig_nbformat": 4,
  "vscode": {
   "interpreter": {
    "hash": "be95a85754f89590a9a0df2f0acb5a91f69ebbf1d5ba415f339e2555e2e4a814"
   }
  }
 },
 "nbformat": 4,
 "nbformat_minor": 2
}
