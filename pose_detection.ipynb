{
 "cells": [
  {
   "cell_type": "code",
   "execution_count": 4,
   "metadata": {},
   "outputs": [],
   "source": [
    "import cv2 as cv\n",
    "import mediapipe as mp"
   ]
  },
  {
   "cell_type": "code",
   "execution_count": 12,
   "metadata": {},
   "outputs": [],
   "source": [
    "\n",
    "# https://google.github.io/mediapipe/solutions/pose#python-solution-api\n",
    "# fuctions form mediapipe for pose detection, drawing on top on image\n",
    "mppose = mp.solutions.pose\n",
    "pose = mppose.Pose()\n",
    "mpDraw = mp.solutions.drawing_utils\n",
    "mpstyle = mp.solutions.drawing_styles\n",
    "\n",
    "video = cv.VideoCapture(0)\n",
    "writer = cv.VideoWriter(\"pose.avi\", cv.VideoWriter_fourcc(*'XVID'), 30, (640,  480))\n",
    "while video.isOpened():\n",
    "\n",
    "    success, frame = video.read()\n",
    "    if not success:\n",
    "        print(\"video did not start\")\n",
    "        break\n",
    "    result = pose.process(frame)\n",
    "\n",
    "    frame.flags.writeable = True\n",
    "    \n",
    "    mpDraw.draw_landmarks(frame, result.pose_landmarks, mppose.POSE_CONNECTIONS, landmark_drawing_spec=mpstyle.get_default_pose_landmarks_style())\n",
    "\n",
    "    writer.write(frame)\n",
    "\n",
    "    cv.imshow(\"pose\", frame)\n",
    "\n",
    "    if cv.waitKey(1)==ord(\"x\"):\n",
    "        break\n",
    "    \n",
    "video.release()\n",
    "writer.release()\n",
    "\n",
    "cv.destroyAllWindows()\n",
    "\n",
    "\n"
   ]
  },
  {
   "cell_type": "code",
   "execution_count": 13,
   "metadata": {},
   "outputs": [
    {
     "data": {
      "text/html": [
       "<video src=\"pose.avi\" controls  >\n",
       "      Your browser does not support the <code>video</code> element.\n",
       "    </video>"
      ],
      "text/plain": [
       "<IPython.core.display.Video object>"
      ]
     },
     "execution_count": 13,
     "metadata": {},
     "output_type": "execute_result"
    }
   ],
   "source": [
    "from IPython.display import Video\n",
    "\n",
    "Video(\"pose.avi\")"
   ]
  },
  {
   "cell_type": "code",
   "execution_count": null,
   "metadata": {},
   "outputs": [],
   "source": []
  }
 ],
 "metadata": {
  "kernelspec": {
   "display_name": "Python 3.8.10 ('py3env': venv)",
   "language": "python",
   "name": "python3"
  },
  "language_info": {
   "codemirror_mode": {
    "name": "ipython",
    "version": 3
   },
   "file_extension": ".py",
   "mimetype": "text/x-python",
   "name": "python",
   "nbconvert_exporter": "python",
   "pygments_lexer": "ipython3",
   "version": "3.8.10"
  },
  "orig_nbformat": 4,
  "vscode": {
   "interpreter": {
    "hash": "be95a85754f89590a9a0df2f0acb5a91f69ebbf1d5ba415f339e2555e2e4a814"
   }
  }
 },
 "nbformat": 4,
 "nbformat_minor": 2
}
