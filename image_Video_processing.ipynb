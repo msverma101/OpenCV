{
 "cells": [
  {
   "cell_type": "code",
   "execution_count": 3,
   "metadata": {},
   "outputs": [],
   "source": [
    "import cv2 as cv\n",
    "import sys\n",
    "import matplotlib.pyplot as plt\n"
   ]
  },
  {
   "cell_type": "code",
   "execution_count": 2,
   "metadata": {},
   "outputs": [],
   "source": [
    "#image reading and writing\n",
    "img = cv.imread(rf\"C:\\Users\\sneha\\Downloads\\trail\\opencv\\images\\20221112_074509.jpg\")\n",
    "while True:\n",
    "    cv.imshow('display', img)\n",
    "    if cv.waitKey(1) == ord(\"s\"):\n",
    "        break\n",
    "cv.destroyAllWindows()\n"
   ]
  },
  {
   "cell_type": "code",
   "execution_count": 3,
   "metadata": {},
   "outputs": [],
   "source": [
    "#video capture\n",
    "video = cv.VideoCapture(0) #0 for camera\n",
    "while True:\n",
    "\n",
    "    cv.imshow(\"video\", video.read()[1])\n",
    "    #cv.imshow(\"video\",cv.cvtColor(frame, cv.COLOR_BGR2HSV)) (in filter)\n",
    "\n",
    "    if cv.waitKey(1) == ord(\"x\"):\n",
    "        break\n",
    "\n",
    "video.release()\n",
    "cv.destroyAllWindows()\n",
    "\n",
    "    "
   ]
  },
  {
   "cell_type": "code",
   "execution_count": 4,
   "metadata": {},
   "outputs": [],
   "source": [
    "##capture and save video\n",
    "\n",
    "#capture video\n",
    "video = cv.VideoCapture(0)\n",
    "\n",
    "#video writer\n",
    "video_write = cv.VideoWriter(\"video_writing.avi\", cv.VideoWriter_fourcc(*'XVID'), 30, (640,  480))\n",
    "\n",
    "while video.isOpened():\n",
    "    #read video\n",
    "    ret, frame = video.read()\n",
    "\n",
    "    #selec video to recording\n",
    "    video_write.write(frame)\n",
    "    \n",
    "    #show video\n",
    "    cv.imshow(\"frame\",frame)\n",
    "    if cv.waitKey(1)==ord(\"q\"):\n",
    "        break\n",
    "\n",
    "#release the recording and the capture\n",
    "video.release()\n",
    "video_write.release()\n",
    "\n",
    "#destroy all windows\n",
    "cv.destroyAllWindows()\n",
    "\n",
    "    \n"
   ]
  },
  {
   "cell_type": "code",
   "execution_count": 17,
   "metadata": {},
   "outputs": [],
   "source": [
    "#draw a circle on black screen\n",
    "\n",
    "import numpy as np\n",
    "import cv2 as cv\n",
    "# mouse callback function\n",
    "def draw_circle(event,x,y,flags,param):\n",
    "    if event == cv.EVENT_LBUTTONDBLCLK:\n",
    "        cv.circle(img,(x,y),100,(255,0,0),-1)\n",
    "# Create a black image, a window and bind the function to window\n",
    "img = np.zeros((512,512,3), np.uint8)\n",
    "cv.namedWindow('image')\n",
    "cv.setMouseCallback('image',draw_circle)\n",
    "while(1):\n",
    "    cv.imshow('image',img)\n",
    "    if cv.waitKey(1) == ord(\"q\"):\n",
    "        break\n",
    "cv.destroyAllWindows()\n"
   ]
  },
  {
   "cell_type": "code",
   "execution_count": 16,
   "metadata": {},
   "outputs": [],
   "source": [
    "#canny edge detection\n",
    "\n",
    "video = cv.VideoCapture(0)\n",
    "while True:\n",
    "    ret, frame = video.read()\n",
    "    frame = cv.Canny(frame, 90,120)\n",
    "    cv.imshow(\"window\", frame)\n",
    "    if cv.waitKey(1)== ord(\"q\"):\n",
    "        break\n",
    "cv.destroyAllWindows()\n"
   ]
  },
  {
   "cell_type": "code",
   "execution_count": 1,
   "metadata": {},
   "outputs": [
    {
     "name": "stdout",
     "output_type": "stream",
     "text": [
      "%history\n"
     ]
    }
   ],
   "source": [
    "%history"
   ]
  },
  {
   "cell_type": "code",
   "execution_count": null,
   "metadata": {},
   "outputs": [],
   "source": []
  }
 ],
 "metadata": {
  "kernelspec": {
   "display_name": "Python 3",
   "language": "python",
   "name": "python3"
  },
  "language_info": {
   "codemirror_mode": {
    "name": "ipython",
    "version": 3
   },
   "file_extension": ".py",
   "mimetype": "text/x-python",
   "name": "python",
   "nbconvert_exporter": "python",
   "pygments_lexer": "ipython3",
   "version": "3.8.10 (tags/v3.8.10:3d8993a, May  3 2021, 11:48:03) [MSC v.1928 64 bit (AMD64)]"
  },
  "orig_nbformat": 4,
  "vscode": {
   "interpreter": {
    "hash": "ab9c0d094bf4502481ee4e59e7861265b2de5fc1e54a19d7d9350a8fc07eb202"
   }
  }
 },
 "nbformat": 4,
 "nbformat_minor": 2
}
